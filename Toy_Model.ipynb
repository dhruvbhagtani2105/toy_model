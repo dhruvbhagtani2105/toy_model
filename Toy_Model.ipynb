{
 "cells": [
  {
   "cell_type": "code",
   "execution_count": 2,
   "metadata": {},
   "outputs": [],
   "source": [
    "import numpy as np\n",
    "import matplotlib.pyplot as plt"
   ]
  },
  {
   "cell_type": "code",
   "execution_count": 3,
   "metadata": {},
   "outputs": [],
   "source": [
    "L = 4000000\n",
    "dL = 500\n",
    "dx = L/dL\n",
    "dy = L/dL\n",
    "#nz = 5\n",
    "nz = 2\n",
    "r0 = 6.378*10**6\n",
    "omega = 7.2921*10**(-5)\n",
    "g = 9.81\n",
    "rho0 = 1025\n",
    "f0 = 2*omega*np.sin(np.deg2rad(30))/r0\n",
    "beta_f = 2*omega*np.cos(np.deg2rad(30))/r0"
   ]
  },
  {
   "cell_type": "code",
   "execution_count": 4,
   "metadata": {},
   "outputs": [],
   "source": [
    "xu_ocean = np.linspace(0,L,dL+1,dtype = float)\n",
    "yu_ocean = np.linspace(0,L,dL+1,dtype = float)\n",
    "hu_ocean = -np.linspace(0,8,nz,dtype = float)*np.exp(np.linspace(0,8,nz,dtype = float)/2)\n",
    "\n",
    "xt_ocean = (xu_ocean[0:dL] + xu_ocean[1:dL+1])/2\n",
    "yt_ocean = (yu_ocean[0:dL] + yu_ocean[1:dL+1])/2\n",
    "ht_ocean = (hu_ocean[0:nz-1] + hu_ocean[1:nz])/2\n",
    "\n",
    "Y,X = np.meshgrid(yt_ocean,xt_ocean)"
   ]
  },
  {
   "cell_type": "markdown",
   "metadata": {},
   "source": [
    "## Ocean Parameters\n",
    "1. Mixed layer depth is increased from $50m$ to $240m$ exponentially, as latitude increases.\n",
    "2. Wind stress is increased from $0 N/m^2$ till $0.1 N/m^2$ at 40 degrees North, and follows a sine function.\n",
    "3. Net surface heat flux is decreased from $50 W/m^2$ at 10 degrees north to $-50 W/m^2$ at 50 degrees north.\n",
    "4. Thermal expansion coefficient is taken as $2.5 \\times 10^{-4}$ degree $C^{-1}$.\n",
    "5. Heat capacity of the ocean is taken as $4 \\times 10^3 J/(kg C)$.\n",
    "6. For simplicity, no subduction is allowed at the base of the mixed layer for now."
   ]
  },
  {
   "cell_type": "code",
   "execution_count": 5,
   "metadata": {},
   "outputs": [],
   "source": [
    "MLD_0 = -50*np.exp(1.57*X/L)"
   ]
  },
  {
   "cell_type": "code",
   "execution_count": 6,
   "metadata": {},
   "outputs": [],
   "source": [
    "#Thermal expansion coefficient = 3.2e-4(10 deg) -> 2e-4(50 deg)\n",
    "alpha = 2.5e-4\n",
    "#Salinity coefficient beta = 7.1e-4(10 deg) -> 7.5e-4(50 deg)\n",
    "beta = 7.3e-4\n",
    "#Heat capacity cp = 3.99e3(10 deg) -> 4.01e3(50 deg)\n",
    "cp = 4e3"
   ]
  },
  {
   "cell_type": "code",
   "execution_count": 46,
   "metadata": {},
   "outputs": [
    {
     "data": {
      "text/plain": [
       "Text(0.5, 1.0, 'Wind-stress in x-direction')"
      ]
     },
     "execution_count": 46,
     "metadata": {},
     "output_type": "execute_result"
    },
    {
     "data": {
      "image/png": "[encoded data removed]",
      "text/plain": [
       "<Figure size 432x288 with 1 Axes>"
      ]
     },
     "metadata": {
      "needs_background": "light"
     },
     "output_type": "display_data"
    }
   ],
   "source": [
    "tau_x = 0.1*np.sin(2.5*yt_ocean/L)\n",
    "plt.plot(tau_x)\n",
    "plt.title('Wind-stress in x-direction')"
   ]
  },
  {
   "cell_type": "code",
   "execution_count": 47,
   "metadata": {},
   "outputs": [
    {
     "data": {
      "text/plain": [
       "Text(0.5, 1.0, 'Net surface heat flux into the ocean')"
      ]
     },
     "execution_count": 47,
     "metadata": {},
     "output_type": "execute_result"
    },
    {
     "data": {
      "image/png": "[encoded data removed]",
      "text/plain": [
       "<Figure size 432x288 with 1 Axes>"
      ]
     },
     "metadata": {
      "needs_background": "light"
     },
     "output_type": "display_data"
    }
   ],
   "source": [
    "Qnet = 50*np.sin(4*yt_ocean/L + np.pi/2)\n",
    "plt.plot(Qnet)\n",
    "plt.title('Net surface heat flux into the ocean')"
   ]
  },
  {
   "cell_type": "markdown",
   "metadata": {},
   "source": [
    "## Equations of Motion"
   ]
  },
  {
   "cell_type": "code",
   "execution_count": 37,
   "metadata": {},
   "outputs": [
    {
     "name": "stdout",
     "output_type": "stream",
     "text": [
      "CPU times: user 2 µs, sys: 0 ns, total: 2 µs\n",
      "Wall time: 5.01 µs\n"
     ]
    }
   ],
   "source": [
    "%time\n",
    "dt = 400\n",
    "t_start = 0\n",
    "t_end = 100000\n",
    "f = f0 + beta_f*Y\n",
    "um_old = np.zeros((dL,dL))\n",
    "um_new = np.zeros((dL,dL))\n",
    "vm_old = np.zeros((dL,dL))\n",
    "vm_new = np.zeros((dL,dL))\n",
    "S05_old = np.zeros((dL,dL))\n",
    "S05_new = np.zeros((dL,dL))\n",
    "rhom_old = 1025*np.ones((dL,dL))\n",
    "rhom_new = np.zeros((dL,dL))\n",
    "hm_new = np.zeros((dL,dL))\n",
    "hm_old = -MLD_0\n",
    "eta_old = np.zeros((dL,dL))\n",
    "eta_new = np.zeros((dL,dL))\n",
    "#Qnet is incorrect because total Qnet over the surface area should be zero.\n",
    "#Qnet = 100*np.sin(4*Y/L + np.pi/2)\n",
    "Qnet = 50*np.sin(4*Y/L + np.pi/2)\n",
    "tau_x = 0.1*np.sin(2.5*Y/L)\n",
    "tau_y = np.zeros((dL,dL))\n",
    "\n",
    "for t in np.linspace(0,1000,int(t_end/dt)+1):\n",
    "    #Ft = (g/rho0)*((alpha*Qnet/Cp) - rho0*beta*Snet)\n",
    "    Ft = (g/rho0)*(alpha*Qnet/cp)\n",
    "    \n",
    "    if t == 0:\n",
    "        um_old[0,1:dL-1] = 0\n",
    "        vm_old[0,1:dL-1] = vm_old[1,1:dL-1]\n",
    "        um_old[dL-1,1:dL-1] = 0\n",
    "        vm_old[dL-1,1:dL-1] = vm_old[dL-1,1:dL-1]\n",
    "        um_old[0:dL,0] = um_old[0:dL,1]\n",
    "        vm_old[0:dL,0] = 0\n",
    "        um_old[0:dL,dL-1] = um_old[0:dL,dL-1]\n",
    "        vm_old[0:dL,dL-1] = 0\n",
    "    \n",
    "    \n",
    "    #Governing Equations\n",
    "    hm_new[1:dL-1,1:dL-1] = hm_old[1:dL-1,1:dL-1] - (\n",
    "        dt/(2*dx))*(um_old[2:dL,1:dL-1]*hm_old[2:dL,1:dL-1] - um_old[0:dL-2,1:dL-1]*hm_old[0:dL-2,1:dL-1]) - (\n",
    "        dt/(2*dy))*(vm_old[1:dL-1,2:dL]*hm_old[1:dL-1,2:dL] - vm_old[1:dL-1,0:dL-2]*hm_old[1:dL-1,0:dL-2]) - (\n",
    "        dt*S05_old[1:dL-1,1:dL-1])\n",
    "    \n",
    "    #rhom_new[1:dL-1,1:dL-1] = rhom_old[1:dL-1,1:dL-1] - (rho0/(g*hm_old[1:dL-1,1:dL-1]))*Ft[1:dL-1,1:dL-1] - (\n",
    "    #    dt/(2*dx))*(um_old[2:dL,1:dL-1]*rhom_old[2:dL,1:dL-1]-um_old[0:dL-2,1:dL-1]*rhom_old[0:dL-2,1:dL-1])-(\n",
    "    #    dt/(2*dy))*(vm_old[1:dL-1,2:dL]*rhom_old[1:dL-1,2:dL]-vm_old[1:dL-1,0:dL-2]*rhom_old[1:dL-1,0:dL-2])\n",
    "   \n",
    "\n",
    "    rhom_new[1:dL-1,1:dL-1] = rhom_old[1:dL-1,1:dL-1] - (rho0/(g*hm_old[1:dL-1,1:dL-1]))*Ft[1:dL-1,1:dL-1] - (\n",
    "        dt/(2*dx))*um_old[1:dL-1,1:dL-1]*(rhom_old[2:dL,1:dL-1]-rhom_old[0:dL-2,1:dL-1])-(\n",
    "        dt/(2*dy))*vm_old[1:dL-1,1:dL-1]*(rhom_old[1:dL-1,2:dL]-rhom_old[1:dL-1,0:dL-2])\n",
    "    \n",
    "    #um_new[1:dL-1,1:dL-1] = um_old[1:dL-1,1:dL-1] - (\n",
    "    #    dt/(2*dx))*(um_old[2:dL,1:dL-1]*um_old[2:dL,1:dL-1] - um_old[0:dL-2,1:dL-1]*um_old[0:dL-2,1:dL-1]) - (\n",
    "    #    dt/(2*dy))*(um_old[1:dL-1,2:dL]*vm_old[1:dL-1,2:dL] - um_old[1:dL-1,0:dL-2]*vm_old[1:dL-1,0:dL-2]) + (\n",
    "    #    dt*f[1:dL-1,1:dL-1]*vm_old[1:dL-1,1:dL-1]) - (\n",
    "    #    (g*hm_old[1:dL-1,1:dL-1])/(2*rho0))*((dt/(2*dx))*(rhom_old[2:dL,1:dL-1]-rhom_old[0:dL-2,1:dL-1])) - (\n",
    "    #    (g*rhom_old[1:dL-1,1:dL-1])/rho0)*((dt/(2*dx))*(eta_old[2:dL,1:dL-1]-eta_old[0:dL-2,1:dL-1])) + (\n",
    "    #    dt*tau_x[1:dL-1,1:dL-1])/(rho0*hm_old[1:dL-1,1:dL-1])\n",
    "    \n",
    "    um_new[1:dL-1,1:dL-1] = um_old[1:dL-1,1:dL-1] - (\n",
    "        dt/(2*dx))*um_old[1:dL-1,1:dL-1]*(um_old[2:dL,1:dL-1] - um_old[0:dL-2,1:dL-1]) - (\n",
    "        dt/(2*dy))*vm_old[1:dL-1,1:dL-1]*(um_old[1:dL-1,2:dL] - um_old[1:dL-1,0:dL-2]) + (\n",
    "        dt*f[1:dL-1,1:dL-1]*vm_old[1:dL-1,1:dL-1]) - (\n",
    "        (g*hm_old[1:dL-1,1:dL-1])/(2*rho0))*((dt/(2*dx))*(rhom_old[2:dL,1:dL-1]-rhom_old[0:dL-2,1:dL-1])) - (\n",
    "        (g*rhom_old[1:dL-1,1:dL-1])/rho0)*((dt/(2*dx))*(eta_old[2:dL,1:dL-1]-eta_old[0:dL-2,1:dL-1])) + (\n",
    "        dt*tau_x[1:dL-1,1:dL-1])/(rho0*hm_old[1:dL-1,1:dL-1])\n",
    "    \n",
    "    #vm_new[1:dL-1,1:dL-1] = vm_old[1:dL-1,1:dL-1] - (\n",
    "    #    dt/(2*dx))*(um_old[2:dL,1:dL-1]*vm_old[2:dL,1:dL-1] - um_old[0:dL-2,1:dL-1]*vm_old[0:dL-2,1:dL-1]) - (\n",
    "    #    dt/(2*dy))*(vm_old[1:dL-1,2:dL]*vm_old[1:dL-1,2:dL] - vm_old[1:dL-1,0:dL-2]*vm_old[1:dL-1,0:dL-2]) - (\n",
    "    #    f[1:dL-1,1:dL-1]*dt*um_old[1:dL-1,1:dL-1]) - (\n",
    "    #    (g*hm_old[1:dL-1,1:dL-1])/(2*rho0))*((dt/(2*dy))*(rhom_old[1:dL-1,2:dL]-rhom_old[1:dL-1,0:dL-2])) - (\n",
    "    #    (g*rhom_old[1:dL-1,1:dL-1])/rho0)*((dt/(2*dy))*(eta_old[1:dL-1,2:dL]-eta_old[1:dL-1,0:dL-2])) + (\n",
    "    #    dt*tau_y[1:dL-1,1:dL-1])/(rho0*hm_old[1:dL-1,1:dL-1])\n",
    "    \n",
    "    vm_new[1:dL-1,1:dL-1] = vm_old[1:dL-1,1:dL-1] - (\n",
    "        dt/(2*dx))*um_old[1:dL-1,1:dL-1]*(vm_old[2:dL,1:dL-1] - vm_old[0:dL-2,1:dL-1]) - (\n",
    "        dt/(2*dy))*vm_old[1:dL-1,1:dL-1]*(vm_old[1:dL-1,2:dL] - vm_old[1:dL-1,0:dL-2]) - (\n",
    "        f[1:dL-1,1:dL-1]*dt*um_old[1:dL-1,1:dL-1]) - (\n",
    "        (g*hm_old[1:dL-1,1:dL-1])/(2*rho0))*((dt/(2*dy))*(rhom_old[1:dL-1,2:dL]-rhom_old[1:dL-1,0:dL-2])) - (\n",
    "        (g*rhom_old[1:dL-1,1:dL-1])/rho0)*((dt/(2*dy))*(eta_old[1:dL-1,2:dL]-eta_old[1:dL-1,0:dL-2])) + (\n",
    "        dt*tau_y[1:dL-1,1:dL-1])/(rho0*hm_old[1:dL-1,1:dL-1])\n",
    "    \n",
    "    #Boundary Conditions (I still need to think more about the 4 corner points for hm and rhom)\n",
    "    um_new[0,1:dL] = 0\n",
    "    vm_new[0,1:dL-1] = vm_new[1,1:dL-1]\n",
    "    um_new[dL-1,0:dL] = 0\n",
    "    vm_new[dL-1,1:dL-1] = vm_new[dL-1,1:dL-1]\n",
    "    um_new[1:dL-1,0] = um_new[1:dL-1,1]\n",
    "    vm_new[0:dL,0] = 0\n",
    "    um_new[1:dL-1,dL-1] = um_new[1:dL-1,dL-1]\n",
    "    vm_new[0:dL,dL-1] = 0\n",
    "    \n",
    "    hm_new[0,1:dL-1] = hm_old[0,1:dL-1] - (dt*S05_old[0,1:dL-1]) - vm_old[0,1:dL-1]*(\n",
    "        dt/(2*dy))*(hm_old[0,2:dL] - hm_old[0,0:dL-2]) - hm_old[0,1:dL-1]*(\n",
    "        dt/(2*dy))*(vm_old[0,2:dL] - vm_old[0,0:dL-2]) - hm_old[0,1:dL-1]*(\n",
    "        dt/(2*dx))*(-3*um_old[0,1:dL-1] + 4*um_old[1,1:dL-1] - um_old[2,1:dL-1])\n",
    "    hm_new[dL-1,1:dL-1] = hm_old[dL-1,1:dL-1] - (dt*S05_old[dL-1,1:dL-1]) - vm_old[dL-1,1:dL-1]*(\n",
    "        dt/(2*dy))*(hm_old[dL-1,2:dL] - hm_old[dL-1,0:dL-2]) - hm_old[dL-1,1:dL-1]*(\n",
    "        dt/(2*dy))*(vm_old[dL-1,2:dL] - vm_old[dL-1,0:dL-2]) - hm_old[dL-1,1:dL-1]*(\n",
    "        dt/(2*dx))*(3*um_old[dL-1,1:dL-1] - 4*um_old[dL-2,1:dL-1] + um_old[dL-3,1:dL-1])\n",
    "    hm_new[1:dL-1,0] = hm_old[1:dL-1,0] - (dt*S05_old[1:dL-1,0]) - um_old[1:dL-1,0]*(\n",
    "        dt/(2*dx))*(hm_old[2:dL,0] - hm_old[0:dL-2,0]) - hm_old[1:dL-1,0]*(\n",
    "        dt/(2*dx))*(um_old[2:dL,0] - um_old[0:dL-2,0]) - hm_old[1:dL-1,0]*(\n",
    "        dt/(2*dy))*(-3*um_old[1:dL-1,0] + 4*um_old[1:dL-1,1] - um_old[1:dL-1,2])\n",
    "    hm_new[1:dL-1,dL-1] = hm_old[1:dL-1,dL-1] - (dt*S05_old[1:dL-1,dL-1]) - um_old[1:dL-1,dL-1]*(\n",
    "        dt/(2*dx))*(hm_old[2:dL,dL-1] - hm_old[0:dL-2,dL-1]) - hm_old[1:dL-1,dL-1]*(\n",
    "        dt/(2*dx))*(um_old[2:dL,dL-1] - um_old[0:dL-2,dL-1]) - hm_old[1:dL-1,dL-1]*(\n",
    "        dt/(2*dy))*(3*vm_old[1:dL-1,dL-1] - 4*vm_old[1:dL-1,dL-2] + vm_old[1:dL-1,dL-3])\n",
    "    \n",
    "    #Need to change boundary conditions too!!!\n",
    "    #rhom_new[0,1:dL-1] = rhom_old[0,1:dL-1] - ((dt*alpha*Qnet[0,1:dL-1])/(cp*hm_old[0,1:dL-1])) - (\n",
    "    #    dt/(2*dx))*(rhom_old[0,1:dL-1])*(-3*um_old[0,1:dL-1] + 4*um_old[1,1:dL-1] - um_old[2,1:dL-1]) - (\n",
    "    #    dt/(2*dy*hm_old[0,1:dL-1]))*(rhom_old[0,2:dL]*vm_old[0,2:dL]*hm_old[0,2:dL] - \n",
    "    #                                 rhom_old[0,0:dL-2]*vm_old[0,0:dL-2]*hm_old[0,0:dL-2])\n",
    "    #rhom_new[dL-1,1:dL-1] = rhom_old[dL-1,1:dL-1] - ((dt*alpha*Qnet[dL-1,1:dL-1])/(cp*hm_old[dL-1,1:dL-1])) - (\n",
    "    #    dt/(2*dx))*(rhom_old[dL-1,1:dL-1])*(3*um_old[dL-1,1:dL-1] - 4*um_old[dL-2,1:dL-1] + um_old[dL-3,1:dL-1])- (\n",
    "    #    dt/(2*dy*hm_old[dL-1,1:dL-1]))*(rhom_old[dL-1,2:dL]*vm_old[dL-1,2:dL]*hm_old[dL-1,2:dL] - \n",
    "    #                                    rhom_old[dL-1,0:dL-2]*vm_old[dL-1,0:dL-2]*hm_old[dL-1,0:dL-2])\n",
    "    #rhom_new[1:dL-1,dL-1] = rhom_old[1:dL-1,dL-1] - ((dt*alpha*Qnet[1:dL-1,dL-1])/(cp*hm_old[1:dL-1,dL-1])) - (\n",
    "    #    dt/(2*dy))*(rhom_old[1:dL-1,dL-1])*(3*vm_old[1:dL-1,dL-1] - 4*vm_old[1:dL-1,dL-2] + vm_old[1:dL-1,dL-3])- (\n",
    "    #    dt/(2*dx*hm_old[1:dL-1,dL-1]))*(rhom_old[2:dL,dL-1]*um_old[2:dL,dL-1]*hm_old[2:dL,dL-1] - \n",
    "    #                                    rhom_old[0:dL-2,dL-1]*um_old[0:dL-2,dL-1]*hm_old[0:dL-2,dL-1])\n",
    "    #rhom_new[1:dL-1,0] = rhom_old[1:dL-1,0] - ((dt*alpha*Qnet[1:dL-1,0])/(cp*hm_old[1:dL-1,0])) - (\n",
    "    #    dt/(2*dy))*(rhom_old[1:dL-1,0])*(-3*vm_old[1:dL-1,0] + 4*vm_old[1:dL-1,1] - vm_old[1:dL-1,2]) - (\n",
    "    #    dt/(2*dx*hm_old[1:dL-1,0]))*(rhom_old[2:dL,0]*um_old[2:dL,0]*hm_old[2:dL,0] - \n",
    "    #                                 rhom_old[0:dL-2,0]*um_old[0:dL-2,0]*hm_old[0:dL-2,0])\n",
    "    \n",
    "    rhom_new[0,1:dL-1] = rhom_old[0,1:dL-1] - ((dt*alpha*Qnet[0,1:dL-1])/(cp*hm_old[0,1:dL-1])) - (\n",
    "        dt/(2*dy))*(rhom_old[0,2:dL] - rhom_old[0,0:dL-2])\n",
    "    rhom_new[dL-1,1:dL-1] = rhom_old[dL-1,1:dL-1] - ((dt*alpha*Qnet[dL-1,1:dL-1])/(cp*hm_old[dL-1,1:dL-1])) - (\n",
    "        dt/(2*dy))*(rhom_old[dL-1,2:dL] - rhom_old[dL-1,0:dL-2])\n",
    "    rhom_new[1:dL-1,dL-1] = rhom_old[1:dL-1,dL-1] - ((dt*alpha*Qnet[1:dL-1,dL-1])/(cp*hm_old[1:dL-1,dL-1])) - (\n",
    "        dt/(2*dx))*(rhom_old[2:dL,dL-1] - rhom_old[0:dL-2,dL-1])\n",
    "    rhom_new[1:dL-1,0] = rhom_old[1:dL-1,0] - ((dt*alpha*Qnet[1:dL-1,0])/(cp*hm_old[1:dL-1,0])) - (\n",
    "        dt/(2*dx))*(rhom_old[2:dL,0] - rhom_old[0:dL-2,0])\n",
    "                                     \n",
    "    #Just putting random values for the 4 corner points\n",
    "    rhom_new[0,0] = rhom_new[0,1]\n",
    "    rhom_new[dL-1,0] = rhom_new[dL-1,1]\n",
    "    rhom_new[0,dL-1] = rhom_new[0,dL-2]\n",
    "    rhom_new[dL-1,dL-1] = rhom_new[dL-1,dL-2]\n",
    "    \n",
    "    hm_new[0,0] = hm_new[0,1]\n",
    "    hm_new[dL-1,0] = hm_new[dL-1,1]\n",
    "    hm_new[0,dL-1] = hm_new[0,dL-2]\n",
    "    hm_new[dL-1,dL-1] = hm_new[dL-1,dL-2]\n",
    "\n",
    "    #Updation Equations\n",
    "    um_old = um_new\n",
    "    vm_old = vm_new\n",
    "    rhom_old = rhom_new\n",
    "    hm_old = hm_new"
   ]
  },
  {
   "cell_type": "markdown",
   "metadata": {},
   "source": [
    "## Postprocessing\n",
    "1. x-direction velocity is plotted, and three different regimes are visible.\n",
    "2. Barotropic Streamfunction is calculated (needs more thought) and plotted."
   ]
  },
  {
   "cell_type": "code",
   "execution_count": 88,
   "metadata": {},
   "outputs": [
    {
     "data": {
      "image/png": "[encoded data removed]",
      "text/plain": [
       "<Figure size 864x504 with 3 Axes>"
      ]
     },
     "metadata": {
      "needs_background": "light"
     },
     "output_type": "display_data"
    }
   ],
   "source": [
    "fig = plt.figure(figsize=(12, 7))\n",
    "\n",
    "ax = fig.add_subplot(111)\n",
    "ax.set_title('x-Velocity')\n",
    "#plt.pcolormesh(X, Y, um_new, shading = 'nearest', vmin = -4e-2, vmax = 4e-2)#, cmap = 'Greens')\n",
    "plt.contourf(X,Y,um_new)\n",
    "ax.set_aspect('equal')\n",
    "\n",
    "cax = fig.add_axes([0.12, 0.1, 0.78, 0.8])\n",
    "cax.get_xaxis().set_visible(False)\n",
    "cax.get_yaxis().set_visible(False)\n",
    "cax.patch.set_alpha(0)\n",
    "cax.set_frame_on(False)\n",
    "plt.colorbar(orientation='vertical')\n",
    "plt.show()"
   ]
  },
  {
   "cell_type": "code",
   "execution_count": 102,
   "metadata": {},
   "outputs": [],
   "source": [
    "#This is correct if we integrate along the western boundary, where u = 0.\n",
    "psi = np.cumsum(um_new,axis = 1)*(dx/10**6)#*hm_new"
   ]
  },
  {
   "cell_type": "code",
   "execution_count": 101,
   "metadata": {},
   "outputs": [
    {
     "data": {
      "image/png": "[encoded data removed]",
      "text/plain": [
       "<Figure size 864x504 with 3 Axes>"
      ]
     },
     "metadata": {
      "needs_background": "light"
     },
     "output_type": "display_data"
    }
   ],
   "source": [
    "fig = plt.figure(figsize=(12, 7))\n",
    "\n",
    "ax = fig.add_subplot(111)\n",
    "ax.set_title('Barotropic Streamfunction')\n",
    "plt.contourf(X,Y,psi,cmap = 'RdBu_r')\n",
    "ax.set_aspect('equal')\n",
    "\n",
    "cax = fig.add_axes([0.12, 0.1, 0.78, 0.8])\n",
    "cax.get_xaxis().set_visible(False)\n",
    "cax.get_yaxis().set_visible(False)\n",
    "cax.patch.set_alpha(0)\n",
    "cax.set_frame_on(False)\n",
    "plt.colorbar(orientation='vertical')\n",
    "plt.show()"
   ]
  }
 ],
 "metadata": {
  "kernelspec": {
   "display_name": "Python 3",
   "language": "python",
   "name": "python3"
  },
  "language_info": {
   "codemirror_mode": {
    "name": "ipython",
    "version": 3
   },
   "file_extension": ".py",
   "mimetype": "text/x-python",
   "name": "python",
   "nbconvert_exporter": "python",
   "pygments_lexer": "ipython3",
   "version": "3.8.5"
  }
 },
 "nbformat": 4,
 "nbformat_minor": 2
}
